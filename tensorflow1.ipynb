{
 "cells": [
  {
   "cell_type": "markdown",
   "metadata": {},
   "source": [
    "### 텐서플로우 실행하기"
   ]
  },
  {
   "cell_type": "code",
   "execution_count": 1,
   "metadata": {},
   "outputs": [],
   "source": [
    "import tensorflow as tf"
   ]
  },
  {
   "cell_type": "code",
   "execution_count": 2,
   "metadata": {},
   "outputs": [
    {
     "name": "stdout",
     "output_type": "stream",
     "text": [
      "Tensor(\"Const:0\", shape=(), dtype=string)\n",
      "b'Hello Tensorflow'\n"
     ]
    }
   ],
   "source": [
    "hello = tf.constant('Hello Tensorflow') # constant 는 상수, 텐서플로우 상수 생성. 변하지 않는 값\n",
    "print(hello)\n",
    "\n",
    "sess = tf.Session()\n",
    "result = sess.run(hello)\n",
    "print(result)\n",
    "sess.close()"
   ]
  },
  {
   "cell_type": "markdown",
   "metadata": {},
   "source": [
    "### 계산그래프 만들기"
   ]
  },
  {
   "cell_type": "code",
   "execution_count": 3,
   "metadata": {},
   "outputs": [],
   "source": [
    "import tensorflow as tf\n",
    "\n",
    "# 텐서플로우는 형이 같아야 계산 가능\n",
    "# 노드 생성\n",
    "node1 = tf.constant(3, tf.float32) # 실수형으로 만들어줌\n",
    "node2 = tf.constant(4.0)\n",
    "node3 = tf.add(node1, node2)"
   ]
  },
  {
   "cell_type": "code",
   "execution_count": 4,
   "metadata": {},
   "outputs": [
    {
     "name": "stdout",
     "output_type": "stream",
     "text": [
      "node1:  Tensor(\"Const_1:0\", shape=(), dtype=float32)\n",
      "node2:  Tensor(\"Const_2:0\", shape=(), dtype=float32)\n",
      "node3:  Tensor(\"Add:0\", shape=(), dtype=float32)\n"
     ]
    }
   ],
   "source": [
    "print(\"node1: \", node1)\n",
    "print(\"node2: \", node2)\n",
    "print(\"node3: \", node3)"
   ]
  },
  {
   "cell_type": "code",
   "execution_count": 5,
   "metadata": {},
   "outputs": [
    {
     "name": "stdout",
     "output_type": "stream",
     "text": [
      "session.run([node1, node2]) [3.0, 4.0]\n",
      "session.run(node3) 7.0\n"
     ]
    }
   ],
   "source": [
    "# 세션이 노드를 실행함\n",
    "session = tf.Session()\n",
    "print(\"session.run([node1, node2])\", session.run([node1, node2]))\n",
    "print(\"session.run(node3)\", session.run(node3))\n",
    "\n",
    "session.close()"
   ]
  },
  {
   "cell_type": "markdown",
   "metadata": {},
   "source": [
    "### 텐서플로우 자료형"
   ]
  },
  {
   "cell_type": "code",
   "execution_count": 6,
   "metadata": {},
   "outputs": [
    {
     "name": "stdout",
     "output_type": "stream",
     "text": [
      "Tensor(\"Const_3:0\", shape=(), dtype=float32)\n",
      "()\n",
      "1.0\n"
     ]
    }
   ],
   "source": [
    "# 다른 타입으로\n",
    "a = tf.constant(1, dtype = tf.float32)\n",
    "print(a)\n",
    "print(a.shape)\n",
    "with tf.Session() as session:\n",
    "    print(session.run(a))"
   ]
  },
  {
   "cell_type": "code",
   "execution_count": 7,
   "metadata": {},
   "outputs": [
    {
     "name": "stdout",
     "output_type": "stream",
     "text": [
      "Tensor(\"Const_4:0\", shape=(1,), dtype=float32)\n",
      "(1,)\n",
      "[1.]\n"
     ]
    }
   ],
   "source": [
    "# 다른 shape으로\n",
    "a = tf.constant(1, dtype = tf.float32, shape = (1,))\n",
    "print(a)\n",
    "print(a.shape)\n",
    "with tf.Session() as session:\n",
    "    print(session.run(a))"
   ]
  },
  {
   "cell_type": "code",
   "execution_count": 8,
   "metadata": {},
   "outputs": [
    {
     "name": "stdout",
     "output_type": "stream",
     "text": [
      "Tensor(\"Const_5:0\", shape=(1, 1), dtype=float32)\n",
      "(1, 1)\n",
      "[[1.]]\n"
     ]
    }
   ],
   "source": [
    "# 2차원으로 설정\n",
    "a = tf.constant(1, dtype = tf.float32, shape = (1,1))\n",
    "print(a)\n",
    "print(a.shape)\n",
    "with tf.Session() as session:\n",
    "    print(session.run(a))"
   ]
  },
  {
   "cell_type": "markdown",
   "metadata": {},
   "source": [
    "### placeholder\n",
    "* 값을 바꾸기 쉽다"
   ]
  },
  {
   "cell_type": "code",
   "execution_count": 9,
   "metadata": {},
   "outputs": [
    {
     "name": "stdout",
     "output_type": "stream",
     "text": [
      "x:  Tensor(\"Placeholder:0\", dtype=float32)\n",
      "y:  Tensor(\"mul:0\", dtype=float32)\n",
      "[2. 4. 6.]\n"
     ]
    }
   ],
   "source": [
    "import tensorflow as tf\n",
    "\n",
    "input_data = [1, 2, 3]\n",
    "x = tf.placeholder(dtype = tf.float32)\n",
    "\n",
    "y = x * 2 # 2는 선언이 생략\n",
    "print(\"x: \", x)\n",
    "print(\"y: \", y)\n",
    "\n",
    "session = tf.Session()\n",
    "\n",
    "# 실행할 때 feed_dict를 통해 값을 전달합니다.\n",
    "result = session.run(y, feed_dict = {x:input_data})\n",
    "print(result)\n",
    "session.close()"
   ]
  },
  {
   "cell_type": "markdown",
   "metadata": {},
   "source": [
    "### variable"
   ]
  },
  {
   "cell_type": "code",
   "execution_count": 10,
   "metadata": {},
   "outputs": [
    {
     "name": "stdout",
     "output_type": "stream",
     "text": [
      "WARNING:tensorflow:From C:\\Users\\YeJi\\Anaconda3\\lib\\site-packages\\tensorflow\\python\\framework\\op_def_library.py:263: colocate_with (from tensorflow.python.framework.ops) is deprecated and will be removed in a future version.\n",
      "Instructions for updating:\n",
      "Colocations handled automatically by placer.\n",
      "x:  Tensor(\"Placeholder_1:0\", dtype=float32)\n",
      "weights:  <tf.Variable 'Variable:0' shape=(1,) dtype=float32_ref>\n",
      "biases:  <tf.Variable 'Variable_1:0' shape=(1,) dtype=float32_ref>\n"
     ]
    }
   ],
   "source": [
    "x = tf.placeholder(dtype = tf.float32)\n",
    "x_data = [1,2,4]\n",
    "\n",
    "#초기값: tf.random_normal([1,3], stddev = 0.35)\n",
    "weights = tf.Variable([3], dtype = tf.float32)\n",
    "biases = tf.Variable([4], dtype = tf.float32)\n",
    "\n",
    "y = weights * x + biases\n",
    "\n",
    "print(\"x: \", x)\n",
    "print(\"weights: \", weights)\n",
    "print(\"biases: \", biases)"
   ]
  },
  {
   "cell_type": "markdown",
   "metadata": {},
   "source": [
    "### 개별 initializer"
   ]
  },
  {
   "cell_type": "code",
   "execution_count": 11,
   "metadata": {},
   "outputs": [
    {
     "name": "stdout",
     "output_type": "stream",
     "text": [
      "[ 7. 10. 16.]\n",
      "[ 6.  8. 12.]\n"
     ]
    }
   ],
   "source": [
    "with tf.Session() as session:\n",
    "    # 초기화 오퍼레이션을 실행\n",
    "    session.run([weights.initializer, biases.initializer])\n",
    "    \n",
    "    result = session.run(y, feed_dict = {x : x_data})\n",
    "    print(result)\n",
    "    \n",
    "    # 변수 변경 // 변수 재 할당\n",
    "    session.run(tf.assign(weights, [2]))\n",
    "    \n",
    "    # 다시 실행\n",
    "    result = session.run(y, feed_dict = {x : x_data})\n",
    "    print(result)\n",
    "    "
   ]
  },
  {
   "cell_type": "markdown",
   "metadata": {},
   "source": [
    "### 전체 변수 한번에 초기화 global_variables_initializer"
   ]
  },
  {
   "cell_type": "code",
   "execution_count": 12,
   "metadata": {},
   "outputs": [
    {
     "name": "stdout",
     "output_type": "stream",
     "text": [
      "[ 7. 10. 16.]\n",
      "[ 6.  8. 12.]\n"
     ]
    }
   ],
   "source": [
    "# 변수 초기화 작업\n",
    "init_op = tf.global_variables_initializer()\n",
    "\n",
    "with tf.Session() as session:\n",
    "    # 초기화 오퍼레이션을 실행\n",
    "    session.run(init_op)\n",
    "    \n",
    "    result = session.run(y, feed_dict = {x : x_data})\n",
    "    print(result)\n",
    "    \n",
    "    # 변수 변경 // 변수 재 할당\n",
    "    session.run(tf.assign(weights, [2]))\n",
    "    \n",
    "    # 다시 실행\n",
    "    result = session.run(y, feed_dict = {x : x_data})\n",
    "    print(result)"
   ]
  },
  {
   "cell_type": "markdown",
   "metadata": {},
   "source": [
    "### Tensor의 속성"
   ]
  },
  {
   "cell_type": "code",
   "execution_count": 15,
   "metadata": {},
   "outputs": [
    {
     "name": "stdout",
     "output_type": "stream",
     "text": [
      "a:  Tensor(\"Const_10:0\", shape=(), dtype=int32)\n",
      "b:  Tensor(\"Const_11:0\", shape=(2,), dtype=float32)\n",
      "c:  Tensor(\"Const_12:0\", shape=(2, 2), dtype=int32)\n",
      "d:  Tensor(\"Const_13:0\", shape=(2, 2, 2), dtype=float32)\n"
     ]
    }
   ],
   "source": [
    "a = tf.constant(1)\n",
    "b = tf.constant([1,2], dtype = tf.float32)\n",
    "c = tf.constant([[1,2],[3,4]], dtype = tf.int32)\n",
    "d = tf.constant(\n",
    "    [\n",
    "        [[1.0, 2.0], [3, 4]],\n",
    "        [[5, 6], [7, 8]]\n",
    "    ]\n",
    ")# 3차원\n",
    "\n",
    "print('a: ', a)\n",
    "print('b: ', b)\n",
    "print('c: ', c)\n",
    "print('d: ', d)"
   ]
  },
  {
   "cell_type": "markdown",
   "metadata": {},
   "source": [
    "### Rank"
   ]
  },
  {
   "cell_type": "code",
   "execution_count": 17,
   "metadata": {},
   "outputs": [
    {
     "name": "stdout",
     "output_type": "stream",
     "text": [
      "a's rank:  0\n",
      "b's rank:  1\n",
      "c's rank:  2\n",
      "d's rank:  3\n",
      "--------------------------------------------------\n",
      "a's rank:  Tensor(\"Rank:0\", shape=(), dtype=int32)\n",
      "b's rank:  Tensor(\"Rank_1:0\", shape=(), dtype=int32)\n",
      "c's rank:  Tensor(\"Rank_2:0\", shape=(), dtype=int32)\n",
      "d's rank:  Tensor(\"Rank_3:0\", shape=(), dtype=int32)\n"
     ]
    }
   ],
   "source": [
    "print(\"a's rank: \", a._rank())\n",
    "print(\"b's rank: \", b._rank())\n",
    "print(\"c's rank: \", c._rank())\n",
    "print(\"d's rank: \", d._rank())\n",
    "\n",
    "print(\"-\"*50)\n",
    "\n",
    "#아래는 텐서로 반환\n",
    "print(\"a's rank: \", tf.rank(a))\n",
    "print(\"b's rank: \", tf.rank(b))\n",
    "print(\"c's rank: \", tf.rank(c))\n",
    "print(\"d's rank: \", tf.rank(d))"
   ]
  },
  {
   "cell_type": "code",
   "execution_count": 18,
   "metadata": {},
   "outputs": [
    {
     "data": {
      "text/plain": [
       "(Dimension(2), Dimension(2))"
      ]
     },
     "execution_count": 18,
     "metadata": {},
     "output_type": "execute_result"
    }
   ],
   "source": [
    "m,n = c.get_shape()\n",
    "m,n"
   ]
  },
  {
   "cell_type": "markdown",
   "metadata": {},
   "source": [
    "### shape"
   ]
  },
  {
   "cell_type": "code",
   "execution_count": 19,
   "metadata": {},
   "outputs": [
    {
     "name": "stdout",
     "output_type": "stream",
     "text": [
      "a's shape:  ()\n",
      "b's shape:  (2,)\n",
      "c's shape:  (2, 2)\n",
      "d's shape:  (2, 2, 2)\n",
      "--------------------------------------------------\n",
      "a's shape:  Tensor(\"Shape:0\", shape=(0,), dtype=int32)\n",
      "b's shape:  Tensor(\"Shape_1:0\", shape=(1,), dtype=int32)\n",
      "c's shape:  Tensor(\"Shape_2:0\", shape=(2,), dtype=int32)\n",
      "d's shape:  Tensor(\"Shape_3:0\", shape=(3,), dtype=int32)\n"
     ]
    }
   ],
   "source": [
    "print(\"a's shape: \", a.get_shape())\n",
    "print(\"b's shape: \", b.get_shape())\n",
    "print(\"c's shape: \", c.get_shape())\n",
    "print(\"d's shape: \", d.get_shape())\n",
    "\n",
    "print(\"-\"*50)\n",
    "\n",
    "#아래는 텐서로 반환\n",
    "print(\"a's shape: \", tf.shape(a))\n",
    "print(\"b's shape: \", tf.shape(b))\n",
    "print(\"c's shape: \", tf.shape(c))\n",
    "print(\"d's shape: \", tf.shape(d))"
   ]
  },
  {
   "cell_type": "markdown",
   "metadata": {},
   "source": [
    "### dtype"
   ]
  },
  {
   "cell_type": "code",
   "execution_count": 22,
   "metadata": {},
   "outputs": [
    {
     "ename": "AttributeError",
     "evalue": "module 'tensorflow' has no attribute 'type'",
     "output_type": "error",
     "traceback": [
      "\u001b[1;31m---------------------------------------------------------------------------\u001b[0m",
      "\u001b[1;31mAttributeError\u001b[0m                            Traceback (most recent call last)",
      "\u001b[1;32m<ipython-input-22-240ff6b60ae0>\u001b[0m in \u001b[0;36m<module>\u001b[1;34m\u001b[0m\n\u001b[1;32m----> 1\u001b[1;33m \u001b[0mprint\u001b[0m\u001b[1;33m(\u001b[0m\u001b[1;34m\"a's dtype: \"\u001b[0m\u001b[1;33m,\u001b[0m \u001b[0mtf\u001b[0m\u001b[1;33m.\u001b[0m\u001b[0mtype\u001b[0m\u001b[1;33m(\u001b[0m\u001b[0ma\u001b[0m\u001b[1;33m)\u001b[0m\u001b[1;33m)\u001b[0m\u001b[1;33m\u001b[0m\u001b[1;33m\u001b[0m\u001b[0m\n\u001b[0m\u001b[0;32m      2\u001b[0m \u001b[0mprint\u001b[0m\u001b[1;33m(\u001b[0m\u001b[1;34m\"b's dtype: \"\u001b[0m\u001b[1;33m,\u001b[0m \u001b[0mtf\u001b[0m\u001b[1;33m.\u001b[0m\u001b[0mdtype\u001b[0m\u001b[1;33m(\u001b[0m\u001b[0mb\u001b[0m\u001b[1;33m)\u001b[0m\u001b[1;33m)\u001b[0m\u001b[1;33m\u001b[0m\u001b[1;33m\u001b[0m\u001b[0m\n\u001b[0;32m      3\u001b[0m \u001b[0mprint\u001b[0m\u001b[1;33m(\u001b[0m\u001b[1;34m\"c's dtype: \"\u001b[0m\u001b[1;33m,\u001b[0m \u001b[0mtf\u001b[0m\u001b[1;33m.\u001b[0m\u001b[0mdtype\u001b[0m\u001b[1;33m(\u001b[0m\u001b[0mc\u001b[0m\u001b[1;33m)\u001b[0m\u001b[1;33m)\u001b[0m\u001b[1;33m\u001b[0m\u001b[1;33m\u001b[0m\u001b[0m\n\u001b[0;32m      4\u001b[0m \u001b[0mprint\u001b[0m\u001b[1;33m(\u001b[0m\u001b[1;34m\"d's dtype: \"\u001b[0m\u001b[1;33m,\u001b[0m \u001b[0mtf\u001b[0m\u001b[1;33m.\u001b[0m\u001b[0mdtype\u001b[0m\u001b[1;33m(\u001b[0m\u001b[0md\u001b[0m\u001b[1;33m)\u001b[0m\u001b[1;33m)\u001b[0m\u001b[1;33m\u001b[0m\u001b[1;33m\u001b[0m\u001b[0m\n",
      "\u001b[1;31mAttributeError\u001b[0m: module 'tensorflow' has no attribute 'type'"
     ]
    }
   ],
   "source": [
    "print(\"a's dtype: \", tf.type(a))\n",
    "print(\"b's dtype: \", tf.dtype(b))\n",
    "print(\"c's dtype: \", tf.dtype(c))\n",
    "print(\"d's dtype: \", tf.dtype(d))"
   ]
  },
  {
   "cell_type": "code",
   "execution_count": null,
   "metadata": {},
   "outputs": [],
   "source": []
  },
  {
   "cell_type": "code",
   "execution_count": null,
   "metadata": {},
   "outputs": [],
   "source": []
  },
  {
   "cell_type": "code",
   "execution_count": null,
   "metadata": {},
   "outputs": [],
   "source": []
  },
  {
   "cell_type": "code",
   "execution_count": null,
   "metadata": {},
   "outputs": [],
   "source": []
  },
  {
   "cell_type": "code",
   "execution_count": null,
   "metadata": {},
   "outputs": [],
   "source": []
  },
  {
   "cell_type": "code",
   "execution_count": null,
   "metadata": {},
   "outputs": [],
   "source": []
  }
 ],
 "metadata": {
  "kernelspec": {
   "display_name": "Python 3",
   "language": "python",
   "name": "python3"
  },
  "language_info": {
   "codemirror_mode": {
    "name": "ipython",
    "version": 3
   },
   "file_extension": ".py",
   "mimetype": "text/x-python",
   "name": "python",
   "nbconvert_exporter": "python",
   "pygments_lexer": "ipython3",
   "version": "3.6.8"
  }
 },
 "nbformat": 4,
 "nbformat_minor": 2
}
